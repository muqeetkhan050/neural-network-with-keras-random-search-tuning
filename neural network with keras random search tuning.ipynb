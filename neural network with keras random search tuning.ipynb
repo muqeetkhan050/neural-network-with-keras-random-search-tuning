{
 "cells": [
  {
   "cell_type": "code",
   "execution_count": 34,
   "id": "691553d2",
   "metadata": {},
   "outputs": [],
   "source": [
    "import pandas as pd\n",
    "from tensorflow import keras\n",
    "from tensorflow.keras import layers\n",
    "from tensorflow.keras import Sequential\n",
    "from keras_tuner.tuners import RandomSearch"
   ]
  },
  {
   "cell_type": "code",
   "execution_count": 9,
   "id": "d02ff935",
   "metadata": {},
   "outputs": [],
   "source": [
    "data=pd.read_csv('Real_Combine.csv')"
   ]
  },
  {
   "cell_type": "code",
   "execution_count": 10,
   "id": "dd5eff6a",
   "metadata": {},
   "outputs": [],
   "source": [
    "X=data.iloc[:,:-1]\n",
    "y=data.iloc[:,-1]"
   ]
  },
  {
   "cell_type": "code",
   "execution_count": 41,
   "id": "c331955e",
   "metadata": {},
   "outputs": [],
   "source": [
    "def build_model(hp):\n",
    "    model=keras.Sequential()\n",
    "    for i in range(hp.Int('num_layers',2,20)):\n",
    "        model.add(layers.Dense(units=hp.Int('units_'+str(i),\n",
    "                                        min_value=32,\n",
    "                                        max_value=512,\n",
    "                                        step=32),\n",
    "                           activation='relu'))\n",
    "    model.add(layers.Dense(1,activation='linear'))\n",
    "    model.compile(\n",
    "    optimizer=keras.optimizers.Adam(hp.Choice('learning_rate',[1e-2,1e-3,1e-4])),\n",
    "        loss='mean_absolute_error',\n",
    "        metrics=['mean_absolute_error'])\n",
    "    return model"
   ]
  },
  {
   "cell_type": "code",
   "execution_count": 43,
   "id": "c5512ab6",
   "metadata": {},
   "outputs": [],
   "source": [
    "tuner=RandomSearch(\n",
    "    build_model,\n",
    "    objective='val_mean_absolute_error',\n",
    "    max_trials=5,\n",
    "    executions_per_trial=3,\n",
    "    directory='project',\n",
    "    project_name='Air Quality Index'\n",
    ")\n"
   ]
  },
  {
   "cell_type": "code",
   "execution_count": 22,
   "id": "edd1cfcf",
   "metadata": {},
   "outputs": [],
   "source": [
    "from sklearn.model_selection import train_test_split\n",
    "X_train,X_test,y_train,y_test=train_test_split(X,y,test_size=0.3,random_state=0)\n"
   ]
  },
  {
   "cell_type": "code",
   "execution_count": 44,
   "id": "5945dbf4",
   "metadata": {},
   "outputs": [
    {
     "name": "stdout",
     "output_type": "stream",
     "text": [
      "Trial 5 Complete [00h 00m 09s]\n",
      "val_mean_absolute_error: nan\n",
      "\n",
      "Best val_mean_absolute_error So Far: nan\n",
      "Total elapsed time: 00h 00m 39s\n",
      "INFO:tensorflow:Oracle triggered exit\n"
     ]
    }
   ],
   "source": [
    "tuner.search(X_train,y_train,epochs=5,validation_data=(X_test,y_test))"
   ]
  },
  {
   "cell_type": "code",
   "execution_count": 46,
   "id": "d9bf1990",
   "metadata": {},
   "outputs": [
    {
     "name": "stdout",
     "output_type": "stream",
     "text": [
      "Results summary\n",
      "Results in project\\Air Quality Index\n",
      "Showing 10 best trials\n",
      "<keras_tuner.engine.objective.Objective object at 0x000001DF2B3F4EB0>\n",
      "Trial summary\n",
      "Hyperparameters:\n",
      "num_layers: 19\n",
      "units_0: 288\n",
      "units_1: 256\n",
      "learning_rate: 0.01\n",
      "units_2: 32\n",
      "units_3: 32\n",
      "units_4: 32\n",
      "units_5: 32\n",
      "units_6: 32\n",
      "units_7: 32\n",
      "units_8: 32\n",
      "units_9: 32\n",
      "units_10: 32\n",
      "units_11: 32\n",
      "units_12: 32\n",
      "units_13: 32\n",
      "units_14: 32\n",
      "units_15: 32\n",
      "units_16: 32\n",
      "units_17: 32\n",
      "units_18: 32\n",
      "Score: nan\n",
      "Trial summary\n",
      "Hyperparameters:\n",
      "num_layers: 11\n",
      "units_0: 288\n",
      "units_1: 160\n",
      "learning_rate: 0.01\n",
      "units_2: 224\n",
      "units_3: 64\n",
      "units_4: 320\n",
      "units_5: 480\n",
      "units_6: 96\n",
      "units_7: 448\n",
      "units_8: 96\n",
      "units_9: 64\n",
      "units_10: 32\n",
      "units_11: 288\n",
      "units_12: 64\n",
      "units_13: 128\n",
      "units_14: 64\n",
      "units_15: 320\n",
      "units_16: 224\n",
      "units_17: 256\n",
      "units_18: 480\n",
      "Score: nan\n",
      "Trial summary\n",
      "Hyperparameters:\n",
      "num_layers: 4\n",
      "units_0: 288\n",
      "units_1: 320\n",
      "learning_rate: 0.0001\n",
      "units_2: 288\n",
      "units_3: 384\n",
      "units_4: 128\n",
      "units_5: 160\n",
      "units_6: 288\n",
      "units_7: 320\n",
      "units_8: 320\n",
      "units_9: 352\n",
      "units_10: 96\n",
      "units_11: 288\n",
      "units_12: 192\n",
      "units_13: 352\n",
      "units_14: 448\n",
      "units_15: 224\n",
      "units_16: 416\n",
      "units_17: 64\n",
      "units_18: 416\n",
      "Score: nan\n",
      "Trial summary\n",
      "Hyperparameters:\n",
      "num_layers: 17\n",
      "units_0: 224\n",
      "units_1: 320\n",
      "learning_rate: 0.01\n",
      "units_2: 224\n",
      "units_3: 320\n",
      "units_4: 192\n",
      "units_5: 320\n",
      "units_6: 64\n",
      "units_7: 288\n",
      "units_8: 128\n",
      "units_9: 480\n",
      "units_10: 160\n",
      "units_11: 320\n",
      "units_12: 256\n",
      "units_13: 480\n",
      "units_14: 288\n",
      "units_15: 32\n",
      "units_16: 160\n",
      "units_17: 416\n",
      "units_18: 32\n",
      "Score: nan\n",
      "Trial summary\n",
      "Hyperparameters:\n",
      "num_layers: 18\n",
      "units_0: 32\n",
      "units_1: 256\n",
      "learning_rate: 0.001\n",
      "units_2: 64\n",
      "units_3: 32\n",
      "units_4: 160\n",
      "units_5: 160\n",
      "units_6: 64\n",
      "units_7: 448\n",
      "units_8: 320\n",
      "units_9: 192\n",
      "units_10: 224\n",
      "units_11: 448\n",
      "units_12: 320\n",
      "units_13: 416\n",
      "units_14: 160\n",
      "units_15: 160\n",
      "units_16: 96\n",
      "units_17: 192\n",
      "units_18: 288\n",
      "Score: nan\n"
     ]
    }
   ],
   "source": [
    "tuner.results_summary()"
   ]
  },
  {
   "cell_type": "code",
   "execution_count": null,
   "id": "15fa6026",
   "metadata": {},
   "outputs": [],
   "source": []
  }
 ],
 "metadata": {
  "kernelspec": {
   "display_name": "Python 3 (ipykernel)",
   "language": "python",
   "name": "python3"
  },
  "language_info": {
   "codemirror_mode": {
    "name": "ipython",
    "version": 3
   },
   "file_extension": ".py",
   "mimetype": "text/x-python",
   "name": "python",
   "nbconvert_exporter": "python",
   "pygments_lexer": "ipython3",
   "version": "3.10.8"
  }
 },
 "nbformat": 4,
 "nbformat_minor": 5
}
